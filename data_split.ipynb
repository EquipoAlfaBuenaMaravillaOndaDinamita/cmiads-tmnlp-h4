{
 "cells": [
  {
   "cell_type": "markdown",
   "id": "8dd83db7",
   "metadata": {},
   "source": [
    "## Imports y Constantes"
   ]
  },
  {
   "cell_type": "code",
   "execution_count": 5,
   "id": "2cf43796",
   "metadata": {},
   "outputs": [],
   "source": [
    "import pandas as pd, os"
   ]
  },
  {
   "cell_type": "code",
   "execution_count": 2,
   "id": "9ed545bd",
   "metadata": {},
   "outputs": [
    {
     "data": {
      "text/html": [
       "<div>\n",
       "<style scoped>\n",
       "    .dataframe tbody tr th:only-of-type {\n",
       "        vertical-align: middle;\n",
       "    }\n",
       "\n",
       "    .dataframe tbody tr th {\n",
       "        vertical-align: top;\n",
       "    }\n",
       "\n",
       "    .dataframe thead th {\n",
       "        text-align: right;\n",
       "    }\n",
       "</style>\n",
       "<table border=\"1\" class=\"dataframe\">\n",
       "  <thead>\n",
       "    <tr style=\"text-align: right;\">\n",
       "      <th></th>\n",
       "      <th>topic</th>\n",
       "      <th>title</th>\n",
       "      <th>text</th>\n",
       "    </tr>\n",
       "  </thead>\n",
       "  <tbody>\n",
       "    <tr>\n",
       "      <th>0</th>\n",
       "      <td>Art and culture</td>\n",
       "      <td>Visual arts</td>\n",
       "      <td>Art forms that create works that are primarily...</td>\n",
       "    </tr>\n",
       "    <tr>\n",
       "      <th>1</th>\n",
       "      <td>Art and culture</td>\n",
       "      <td>Visual Arts (company)</td>\n",
       "      <td>Visual ArtsTypeKabushiki gaishaIndustryPC game...</td>\n",
       "    </tr>\n",
       "    <tr>\n",
       "      <th>2</th>\n",
       "      <td>Art and culture</td>\n",
       "      <td>The Church at Auvers</td>\n",
       "      <td>The Church at AuversArtistVincent van GoghYear...</td>\n",
       "    </tr>\n",
       "    <tr>\n",
       "      <th>3</th>\n",
       "      <td>Art and culture</td>\n",
       "      <td>Oil painting</td>\n",
       "      <td>Process of painting with pigments that are bou...</td>\n",
       "    </tr>\n",
       "    <tr>\n",
       "      <th>4</th>\n",
       "      <td>Art and culture</td>\n",
       "      <td>Painting</td>\n",
       "      <td>Practice of applying paint, pigment, color or ...</td>\n",
       "    </tr>\n",
       "    <tr>\n",
       "      <th>...</th>\n",
       "      <td>...</td>\n",
       "      <td>...</td>\n",
       "      <td>...</td>\n",
       "    </tr>\n",
       "    <tr>\n",
       "      <th>867</th>\n",
       "      <td>Technology and applied sciences</td>\n",
       "      <td>Tupolev</td>\n",
       "      <td>Russian Aerospace and defence Manufacturer com...</td>\n",
       "    </tr>\n",
       "    <tr>\n",
       "      <th>868</th>\n",
       "      <td>Technology and applied sciences</td>\n",
       "      <td>Yakovlev</td>\n",
       "      <td>This article is about the Russian aircraft man...</td>\n",
       "    </tr>\n",
       "    <tr>\n",
       "      <th>869</th>\n",
       "      <td>Technology and applied sciences</td>\n",
       "      <td>Irkut Corporation</td>\n",
       "      <td>Russian aircraft manufacturer. JSC Irkut Corpo...</td>\n",
       "    </tr>\n",
       "    <tr>\n",
       "      <th>870</th>\n",
       "      <td>Technology and applied sciences</td>\n",
       "      <td>Beriev</td>\n",
       "      <td>Russian Aircraft Company. Beriev Aircraft Comp...</td>\n",
       "    </tr>\n",
       "    <tr>\n",
       "      <th>871</th>\n",
       "      <td>Technology and applied sciences</td>\n",
       "      <td>Airline</td>\n",
       "      <td>Company that provides air transport services f...</td>\n",
       "    </tr>\n",
       "  </tbody>\n",
       "</table>\n",
       "<p>872 rows × 3 columns</p>\n",
       "</div>"
      ],
      "text/plain": [
       "                               topic                  title  \\\n",
       "0                    Art and culture            Visual arts   \n",
       "1                    Art and culture  Visual Arts (company)   \n",
       "2                    Art and culture   The Church at Auvers   \n",
       "3                    Art and culture           Oil painting   \n",
       "4                    Art and culture               Painting   \n",
       "..                               ...                    ...   \n",
       "867  Technology and applied sciences                Tupolev   \n",
       "868  Technology and applied sciences               Yakovlev   \n",
       "869  Technology and applied sciences      Irkut Corporation   \n",
       "870  Technology and applied sciences                 Beriev   \n",
       "871  Technology and applied sciences                Airline   \n",
       "\n",
       "                                                  text  \n",
       "0    Art forms that create works that are primarily...  \n",
       "1    Visual ArtsTypeKabushiki gaishaIndustryPC game...  \n",
       "2    The Church at AuversArtistVincent van GoghYear...  \n",
       "3    Process of painting with pigments that are bou...  \n",
       "4    Practice of applying paint, pigment, color or ...  \n",
       "..                                                 ...  \n",
       "867  Russian Aerospace and defence Manufacturer com...  \n",
       "868  This article is about the Russian aircraft man...  \n",
       "869  Russian aircraft manufacturer. JSC Irkut Corpo...  \n",
       "870  Russian Aircraft Company. Beriev Aircraft Comp...  \n",
       "871  Company that provides air transport services f...  \n",
       "\n",
       "[872 rows x 3 columns]"
      ]
     },
     "execution_count": 2,
     "metadata": {},
     "output_type": "execute_result"
    }
   ],
   "source": [
    "df = pd.read_csv('data/tokens_topics.csv')\n",
    "df"
   ]
  },
  {
   "cell_type": "markdown",
   "id": "2436f552",
   "metadata": {},
   "source": [
    "## Separar train, test y validation datasets\n",
    "Train: 70%, Test: 15%, Validation: 15%"
   ]
  },
  {
   "cell_type": "code",
   "execution_count": 3,
   "id": "0e725d70",
   "metadata": {},
   "outputs": [],
   "source": [
    "# split 70, 15, 15\n",
    "train = df.copy()\n",
    "test = train.sample(frac = 0.30)\n",
    "train = train.drop(test.index)\n",
    "validation = test.sample(frac = 0.5) # 0.5 because it's half of .3\n",
    "test = test.drop(validation.index)"
   ]
  },
  {
   "cell_type": "code",
   "execution_count": 6,
   "id": "4ca8f4f3",
   "metadata": {},
   "outputs": [],
   "source": [
    "os.makedirs('data', exist_ok=True)\n",
    "train.to_csv('data/train.csv', index=False)\n",
    "test.to_csv('data/test.csv', index=False)\n",
    "validation.to_csv('data/validation.csv', index=False)"
   ]
  }
 ],
 "metadata": {
  "kernelspec": {
   "display_name": "Python 3 (ipykernel)",
   "language": "python",
   "name": "python3"
  },
  "language_info": {
   "codemirror_mode": {
    "name": "ipython",
    "version": 3
   },
   "file_extension": ".py",
   "mimetype": "text/x-python",
   "name": "python",
   "nbconvert_exporter": "python",
   "pygments_lexer": "ipython3",
   "version": "3.9.7"
  }
 },
 "nbformat": 4,
 "nbformat_minor": 5
}
