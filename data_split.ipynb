{
 "cells": [
  {
   "cell_type": "markdown",
   "id": "8dd83db7",
   "metadata": {},
   "source": [
    "## Imports y Constantes"
   ]
  },
  {
   "cell_type": "code",
   "execution_count": 23,
   "id": "2cf43796",
   "metadata": {},
   "outputs": [],
   "source": [
    "import pandas as pd, os"
   ]
  },
  {
   "cell_type": "code",
   "execution_count": 24,
   "id": "9ed545bd",
   "metadata": {},
   "outputs": [
    {
     "data": {
      "text/html": [
       "<div>\n",
       "<style scoped>\n",
       "    .dataframe tbody tr th:only-of-type {\n",
       "        vertical-align: middle;\n",
       "    }\n",
       "\n",
       "    .dataframe tbody tr th {\n",
       "        vertical-align: top;\n",
       "    }\n",
       "\n",
       "    .dataframe thead th {\n",
       "        text-align: right;\n",
       "    }\n",
       "</style>\n",
       "<table border=\"1\" class=\"dataframe\">\n",
       "  <thead>\n",
       "    <tr style=\"text-align: right;\">\n",
       "      <th></th>\n",
       "      <th>topic</th>\n",
       "      <th>title</th>\n",
       "      <th>text</th>\n",
       "    </tr>\n",
       "  </thead>\n",
       "  <tbody>\n",
       "    <tr>\n",
       "      <th>0</th>\n",
       "      <td>food</td>\n",
       "      <td>Food (disambiguation)</td>\n",
       "      <td>. Look up food in Wiktionary, the free diction...</td>\n",
       "    </tr>\n",
       "    <tr>\n",
       "      <th>1</th>\n",
       "      <td>food</td>\n",
       "      <td>Anthropocentrism</td>\n",
       "      <td>Philosophical theory. \"Anthropocentric\" and \"A...</td>\n",
       "    </tr>\n",
       "    <tr>\n",
       "      <th>2</th>\n",
       "      <td>food</td>\n",
       "      <td>Nutrient</td>\n",
       "      <td>Substance that an organism uses to live. \"Nutr...</td>\n",
       "    </tr>\n",
       "    <tr>\n",
       "      <th>3</th>\n",
       "      <td>food</td>\n",
       "      <td>Organism</td>\n",
       "      <td>Any individual living being or physical living...</td>\n",
       "    </tr>\n",
       "    <tr>\n",
       "      <th>4</th>\n",
       "      <td>food</td>\n",
       "      <td>Protein (nutrient)</td>\n",
       "      <td>Nutrient for the human body. This article is a...</td>\n",
       "    </tr>\n",
       "    <tr>\n",
       "      <th>...</th>\n",
       "      <td>...</td>\n",
       "      <td>...</td>\n",
       "      <td>...</td>\n",
       "    </tr>\n",
       "    <tr>\n",
       "      <th>1016</th>\n",
       "      <td>music</td>\n",
       "      <td>Baroque music</td>\n",
       "      <td>Style of Western classical music. Painting by ...</td>\n",
       "    </tr>\n",
       "    <tr>\n",
       "      <th>1017</th>\n",
       "      <td>music</td>\n",
       "      <td>Baroque</td>\n",
       "      <td>Artistic style in Europe and colonies, c. 1600...</td>\n",
       "    </tr>\n",
       "    <tr>\n",
       "      <th>1018</th>\n",
       "      <td>music</td>\n",
       "      <td>Polyphony</td>\n",
       "      <td>Simultaneous lines of independent melody. This...</td>\n",
       "    </tr>\n",
       "    <tr>\n",
       "      <th>1019</th>\n",
       "      <td>music</td>\n",
       "      <td>Counterpoint</td>\n",
       "      <td>Polyphonic music with separate melodies. \"Cont...</td>\n",
       "    </tr>\n",
       "    <tr>\n",
       "      <th>1020</th>\n",
       "      <td>music</td>\n",
       "      <td>Musical ensemble</td>\n",
       "      <td>Instrumental and/or vocal music group. \"Music ...</td>\n",
       "    </tr>\n",
       "  </tbody>\n",
       "</table>\n",
       "<p>957 rows × 3 columns</p>\n",
       "</div>"
      ],
      "text/plain": [
       "      topic                  title  \\\n",
       "0      food  Food (disambiguation)   \n",
       "1      food       Anthropocentrism   \n",
       "2      food               Nutrient   \n",
       "3      food               Organism   \n",
       "4      food     Protein (nutrient)   \n",
       "...     ...                    ...   \n",
       "1016  music          Baroque music   \n",
       "1017  music                Baroque   \n",
       "1018  music              Polyphony   \n",
       "1019  music           Counterpoint   \n",
       "1020  music       Musical ensemble   \n",
       "\n",
       "                                                   text  \n",
       "0     . Look up food in Wiktionary, the free diction...  \n",
       "1     Philosophical theory. \"Anthropocentric\" and \"A...  \n",
       "2     Substance that an organism uses to live. \"Nutr...  \n",
       "3     Any individual living being or physical living...  \n",
       "4     Nutrient for the human body. This article is a...  \n",
       "...                                                 ...  \n",
       "1016  Style of Western classical music. Painting by ...  \n",
       "1017  Artistic style in Europe and colonies, c. 1600...  \n",
       "1018  Simultaneous lines of independent melody. This...  \n",
       "1019  Polyphonic music with separate melodies. \"Cont...  \n",
       "1020  Instrumental and/or vocal music group. \"Music ...  \n",
       "\n",
       "[957 rows x 3 columns]"
      ]
     },
     "execution_count": 24,
     "metadata": {},
     "output_type": "execute_result"
    }
   ],
   "source": [
    "df = pd.read_csv('data/tokens_topics.csv')\n",
    "df = df.drop_duplicates(subset=['title'])\n",
    "df"
   ]
  },
  {
   "cell_type": "markdown",
   "id": "2436f552",
   "metadata": {},
   "source": [
    "## Separar train, test y validation datasets\n",
    "Train: 70%, Test: 15%, Validation: 15%"
   ]
  },
  {
   "cell_type": "code",
   "execution_count": 25,
   "id": "0e725d70",
   "metadata": {},
   "outputs": [],
   "source": [
    "# split 70, 15, 15\n",
    "train = df.copy()\n",
    "test = train.sample(frac = 0.30)\n",
    "train = train.drop(test.index)\n",
    "validation = test.sample(frac = 0.5) # 0.5 because it's half of .3\n",
    "test = test.drop(validation.index)"
   ]
  },
  {
   "cell_type": "code",
   "execution_count": 26,
   "id": "4ca8f4f3",
   "metadata": {},
   "outputs": [],
   "source": [
    "os.makedirs('data', exist_ok=True)\n",
    "train.to_csv('data/train.csv', index=False)\n",
    "test.to_csv('data/test.csv', index=False)\n",
    "validation.to_csv('data/validation.csv', index=False)"
   ]
  }
 ],
 "metadata": {
  "kernelspec": {
   "display_name": "Python 3 (ipykernel)",
   "language": "python",
   "name": "python3"
  },
  "language_info": {
   "codemirror_mode": {
    "name": "ipython",
    "version": 3
   },
   "file_extension": ".py",
   "mimetype": "text/x-python",
   "name": "python",
   "nbconvert_exporter": "python",
   "pygments_lexer": "ipython3",
   "version": "3.9.7"
  }
 },
 "nbformat": 4,
 "nbformat_minor": 5
}
