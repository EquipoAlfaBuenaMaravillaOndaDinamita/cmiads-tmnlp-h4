{
 "cells": [
  {
   "cell_type": "markdown",
   "id": "8dd83db7",
   "metadata": {},
   "source": [
    "## Imports y Constantes"
   ]
  },
  {
   "cell_type": "code",
   "execution_count": 75,
   "id": "2cf43796",
   "metadata": {},
   "outputs": [],
   "source": [
    "import pandas as pd, os"
   ]
  },
  {
   "cell_type": "code",
   "execution_count": 76,
   "id": "9ed545bd",
   "metadata": {},
   "outputs": [
    {
     "data": {
      "text/html": [
       "<div>\n",
       "<style scoped>\n",
       "    .dataframe tbody tr th:only-of-type {\n",
       "        vertical-align: middle;\n",
       "    }\n",
       "\n",
       "    .dataframe tbody tr th {\n",
       "        vertical-align: top;\n",
       "    }\n",
       "\n",
       "    .dataframe thead th {\n",
       "        text-align: right;\n",
       "    }\n",
       "</style>\n",
       "<table border=\"1\" class=\"dataframe\">\n",
       "  <thead>\n",
       "    <tr style=\"text-align: right;\">\n",
       "      <th></th>\n",
       "      <th>topic</th>\n",
       "      <th>title</th>\n",
       "      <th>text</th>\n",
       "    </tr>\n",
       "  </thead>\n",
       "  <tbody>\n",
       "    <tr>\n",
       "      <th>0</th>\n",
       "      <td>art</td>\n",
       "      <td>Art (disambiguation)</td>\n",
       "      <td>. Look up art in Wiktionary, the free dictiona...</td>\n",
       "    </tr>\n",
       "    <tr>\n",
       "      <th>1</th>\n",
       "      <td>art</td>\n",
       "      <td>Self-portrait</td>\n",
       "      <td>For other uses, see Self-portrait (disambiguat...</td>\n",
       "    </tr>\n",
       "    <tr>\n",
       "      <th>2</th>\n",
       "      <td>art</td>\n",
       "      <td>Chokwe people</td>\n",
       "      <td>Ethnic group of Central &amp; Southern Africa. Thi...</td>\n",
       "    </tr>\n",
       "    <tr>\n",
       "      <th>3</th>\n",
       "      <td>art</td>\n",
       "      <td>The Birth of Venus</td>\n",
       "      <td>Painting by Sandro Botticelli. For other uses,...</td>\n",
       "    </tr>\n",
       "    <tr>\n",
       "      <th>4</th>\n",
       "      <td>art</td>\n",
       "      <td>Sandro Botticelli</td>\n",
       "      <td>Italian Renaissance painter (1445–1510). This ...</td>\n",
       "    </tr>\n",
       "    <tr>\n",
       "      <th>...</th>\n",
       "      <td>...</td>\n",
       "      <td>...</td>\n",
       "      <td>...</td>\n",
       "    </tr>\n",
       "    <tr>\n",
       "      <th>1035</th>\n",
       "      <td>technology</td>\n",
       "      <td>Goethe's Faust</td>\n",
       "      <td>Play by Johann Wolfgang von Goethe. This artic...</td>\n",
       "    </tr>\n",
       "    <tr>\n",
       "      <th>1036</th>\n",
       "      <td>technology</td>\n",
       "      <td>Philip K. Dick</td>\n",
       "      <td>American science fiction author (1928–1982). P...</td>\n",
       "    </tr>\n",
       "    <tr>\n",
       "      <th>1037</th>\n",
       "      <td>technology</td>\n",
       "      <td>Neil Postman</td>\n",
       "      <td>American media theorist and cultural critic. N...</td>\n",
       "    </tr>\n",
       "    <tr>\n",
       "      <th>1038</th>\n",
       "      <td>technology</td>\n",
       "      <td>Darin Barney</td>\n",
       "      <td>Darin BarneyBornBurnaby, British ColumbiaNatio...</td>\n",
       "    </tr>\n",
       "    <tr>\n",
       "      <th>1039</th>\n",
       "      <td>technology</td>\n",
       "      <td>Citizenship</td>\n",
       "      <td>Legal membership in a country. \"Citizen\" redir...</td>\n",
       "    </tr>\n",
       "  </tbody>\n",
       "</table>\n",
       "<p>978 rows × 3 columns</p>\n",
       "</div>"
      ],
      "text/plain": [
       "           topic                 title  \\\n",
       "0            art  Art (disambiguation)   \n",
       "1            art         Self-portrait   \n",
       "2            art         Chokwe people   \n",
       "3            art    The Birth of Venus   \n",
       "4            art     Sandro Botticelli   \n",
       "...          ...                   ...   \n",
       "1035  technology        Goethe's Faust   \n",
       "1036  technology        Philip K. Dick   \n",
       "1037  technology          Neil Postman   \n",
       "1038  technology          Darin Barney   \n",
       "1039  technology           Citizenship   \n",
       "\n",
       "                                                   text  \n",
       "0     . Look up art in Wiktionary, the free dictiona...  \n",
       "1     For other uses, see Self-portrait (disambiguat...  \n",
       "2     Ethnic group of Central & Southern Africa. Thi...  \n",
       "3     Painting by Sandro Botticelli. For other uses,...  \n",
       "4     Italian Renaissance painter (1445–1510). This ...  \n",
       "...                                                 ...  \n",
       "1035  Play by Johann Wolfgang von Goethe. This artic...  \n",
       "1036  American science fiction author (1928–1982). P...  \n",
       "1037  American media theorist and cultural critic. N...  \n",
       "1038  Darin BarneyBornBurnaby, British ColumbiaNatio...  \n",
       "1039  Legal membership in a country. \"Citizen\" redir...  \n",
       "\n",
       "[978 rows x 3 columns]"
      ]
     },
     "execution_count": 76,
     "metadata": {},
     "output_type": "execute_result"
    }
   ],
   "source": [
    "df = pd.read_csv('data/tokens_topics.csv')\n",
    "df = df.drop_duplicates(subset=['title'])\n",
    "df"
   ]
  },
  {
   "cell_type": "code",
   "execution_count": 77,
   "id": "bf32cdc6",
   "metadata": {},
   "outputs": [
    {
     "data": {
      "text/plain": [
       "topic\n",
       "art           146\n",
       "food          123\n",
       "geography     141\n",
       "history        68\n",
       "music         135\n",
       "science        91\n",
       "sports        136\n",
       "technology    138\n",
       "Name: topic, dtype: int64"
      ]
     },
     "execution_count": 77,
     "metadata": {},
     "output_type": "execute_result"
    }
   ],
   "source": [
    "df.groupby(['topic'])['topic'].count()"
   ]
  },
  {
   "cell_type": "markdown",
   "id": "2436f552",
   "metadata": {},
   "source": [
    "## Separar train, test y validation datasets\n",
    "Train: 70%, Test: 15%, Validation: 15%"
   ]
  },
  {
   "cell_type": "code",
   "execution_count": 102,
   "id": "0e725d70",
   "metadata": {},
   "outputs": [],
   "source": [
    "# split 70, 15, 15\n",
    "train = df.copy()\n",
    "train = df.sample(frac = 1)\n",
    "test = train.sample(frac = 0.60)\n",
    "train = train.drop(test.index)\n",
    "validation = test.sample(frac = 0.2) # 0.5 because it's half of .3\n",
    "test = test.drop(validation.index)"
   ]
  },
  {
   "cell_type": "code",
   "execution_count": 103,
   "id": "3fc25b80",
   "metadata": {},
   "outputs": [
    {
     "data": {
      "text/plain": [
       "topic\n",
       "art           63\n",
       "food          42\n",
       "geography     54\n",
       "history       31\n",
       "music         62\n",
       "science       46\n",
       "sports        45\n",
       "technology    48\n",
       "Name: topic, dtype: int64"
      ]
     },
     "execution_count": 103,
     "metadata": {},
     "output_type": "execute_result"
    }
   ],
   "source": [
    "train.groupby(['topic'])['topic'].count()"
   ]
  },
  {
   "cell_type": "code",
   "execution_count": 104,
   "id": "66b3139f",
   "metadata": {},
   "outputs": [
    {
     "data": {
      "text/plain": [
       "topic\n",
       "art           68\n",
       "food          64\n",
       "geography     76\n",
       "history       27\n",
       "music         59\n",
       "science       30\n",
       "sports        73\n",
       "technology    73\n",
       "Name: topic, dtype: int64"
      ]
     },
     "execution_count": 104,
     "metadata": {},
     "output_type": "execute_result"
    }
   ],
   "source": [
    "test.groupby(['topic'])['topic'].count() "
   ]
  },
  {
   "cell_type": "code",
   "execution_count": 105,
   "id": "43f7c196",
   "metadata": {},
   "outputs": [
    {
     "data": {
      "text/plain": [
       "topic\n",
       "art           15\n",
       "food          17\n",
       "geography     11\n",
       "history       10\n",
       "music         14\n",
       "science       15\n",
       "sports        18\n",
       "technology    17\n",
       "Name: topic, dtype: int64"
      ]
     },
     "execution_count": 105,
     "metadata": {},
     "output_type": "execute_result"
    }
   ],
   "source": [
    "validation.groupby(['topic'])['topic'].count() "
   ]
  },
  {
   "cell_type": "code",
   "execution_count": 106,
   "id": "4ca8f4f3",
   "metadata": {},
   "outputs": [],
   "source": [
    "os.makedirs('data', exist_ok=True)\n",
    "train.to_csv('data/train.csv', index=False)\n",
    "test.to_csv('data/test.csv', index=False)\n",
    "validation.to_csv('data/validation.csv', index=False)"
   ]
  }
 ],
 "metadata": {
  "kernelspec": {
   "display_name": "Python 3 (ipykernel)",
   "language": "python",
   "name": "python3"
  },
  "language_info": {
   "codemirror_mode": {
    "name": "ipython",
    "version": 3
   },
   "file_extension": ".py",
   "mimetype": "text/x-python",
   "name": "python",
   "nbconvert_exporter": "python",
   "pygments_lexer": "ipython3",
   "version": "3.9.7"
  }
 },
 "nbformat": 4,
 "nbformat_minor": 5
}
