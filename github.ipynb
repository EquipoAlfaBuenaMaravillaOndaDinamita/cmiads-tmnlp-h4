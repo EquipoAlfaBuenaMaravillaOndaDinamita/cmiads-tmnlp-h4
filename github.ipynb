{
 "cells": [
  {
   "cell_type": "code",
   "execution_count": 4,
   "id": "14380358",
   "metadata": {},
   "outputs": [
    {
     "name": "stdout",
     "output_type": "stream",
     "text": [
      "[master e288f73] topics updated\n",
      " 5 files changed, 1510 insertions(+), 1000 deletions(-)\n",
      " delete mode 100644 data/sample.csv\n",
      " delete mode 100644 data/tokens_1500000.csv\n",
      " create mode 100644 data/tokens_topics.csv\n",
      " rewrite github.ipynb (74%)\n",
      " rewrite main.ipynb (80%)\n"
     ]
    },
    {
     "name": "stderr",
     "output_type": "stream",
     "text": [
      "To https://github.com/EquipoAlfaBuenaMaravillaOndaDinamita/cmiads-tmnlp-h4.git\n",
      "   8c3438a..e288f73  master -> master\n"
     ]
    }
   ],
   "source": [
    "%%bash\n",
    "git config user.email \"gar13177@uvg.edu.gt\"\n",
    "git config user.name \"Kevin Garcia\"\n",
    "git add .\n",
    "git commit -m \"topics updated and coherence model c_v for testing set again\"\n",
    "git push"
   ]
  },
  {
   "cell_type": "code",
   "execution_count": 6,
   "id": "d37c7533",
   "metadata": {},
   "outputs": [
    {
     "name": "stdout",
     "output_type": "stream",
     "text": [
      "[master 62ee621] split data\n",
      " 6 files changed, 1252 insertions(+), 97 deletions(-)\n",
      " create mode 100644 data/test.csv\n",
      " create mode 100644 data/train.csv\n",
      " create mode 100644 data/validation.csv\n",
      " create mode 100644 data_split.ipynb\n"
     ]
    },
    {
     "name": "stderr",
     "output_type": "stream",
     "text": [
      "To https://github.com/EquipoAlfaBuenaMaravillaOndaDinamita/cmiads-tmnlp-h4.git\n",
      "   48dad25..62ee621  master -> master\n"
     ]
    }
   ],
   "source": [
    "%%bash\n",
    "git config user.email \"martinlguzmanc@gmail.com\"\n",
    "git config user.name \"Martin Guzman\"\n",
    "git add .\n",
    "git commit -m \"split data\"\n",
    "git push"
   ]
  },
  {
   "cell_type": "code",
   "execution_count": null,
   "id": "9cf05550",
   "metadata": {},
   "outputs": [],
   "source": []
  }
 ],
 "metadata": {
  "kernelspec": {
   "display_name": "Python 3 (ipykernel)",
   "language": "python",
   "name": "python3"
  },
  "language_info": {
   "codemirror_mode": {
    "name": "ipython",
    "version": 3
   },
   "file_extension": ".py",
   "mimetype": "text/x-python",
   "name": "python",
   "nbconvert_exporter": "python",
   "pygments_lexer": "ipython3",
   "version": "3.9.7"
  }
 },
 "nbformat": 4,
 "nbformat_minor": 5
}
