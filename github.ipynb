{
 "cells": [
  {
   "cell_type": "code",
   "execution_count": 2,
   "id": "d768d7a1",
   "metadata": {},
   "outputs": [
    {
     "name": "stdout",
     "output_type": "stream",
     "text": [
      "[master cb1ae7d] csvs removed\n",
      " 1 file changed, 83 insertions(+), 2 deletions(-)\n"
     ]
    },
    {
     "name": "stderr",
     "output_type": "stream",
     "text": [
      "To https://github.com/EquipoAlfaBuenaMaravillaOndaDinamita/cmiads-tmnlp-h4.git\n",
      "   5322b80..cb1ae7d  master -> master\n"
     ]
    }
   ],
   "source": [
    "%%bash\n",
    "git config user.email \"gar13177@uvg.edu.gt\"\n",
    "git config user.name \"Kevin Garcia\"\n",
    "git add .\n",
    "git commit -m \"github test\"\n",
    "git push"
   ]
  },
  {
   "cell_type": "code",
   "execution_count": null,
   "id": "5302297b",
   "metadata": {},
   "outputs": [],
   "source": [
    "%%bash\n",
    "git config user.email \"martinlguzmanc@gmail.com\"\n",
    "git config user.name \"Martin Guzman\"\n",
    "git add .\n",
    "git commit -m \"ordenar codigo, funcion de metricas, modelo de prueba, draft de iterar varios modelos\"\n",
    "git push"
   ]
  }
 ],
 "metadata": {
  "kernelspec": {
   "display_name": "Python 3 (ipykernel)",
   "language": "python",
   "name": "python3"
  },
  "language_info": {
   "codemirror_mode": {
    "name": "ipython",
    "version": 3
   },
   "file_extension": ".py",
   "mimetype": "text/x-python",
   "name": "python",
   "nbconvert_exporter": "python",
   "pygments_lexer": "ipython3",
   "version": "3.9.7"
  }
 },
 "nbformat": 4,
 "nbformat_minor": 5
}
