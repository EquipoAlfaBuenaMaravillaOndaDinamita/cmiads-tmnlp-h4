{
 "cells": [
  {
   "cell_type": "code",
   "execution_count": 5,
   "id": "14380358",
   "metadata": {},
   "outputs": [
    {
     "name": "stdout",
     "output_type": "stream",
     "text": [
      "[master 2725951] topic modeling ready and word cloud\n",
      " 7 files changed, 503 insertions(+), 215111 deletions(-)\n",
      " delete mode 100644 archivos_del_profe/09_topic_modeling.ipynb\n",
      " delete mode 100644 archivos_del_profe/newsgroups.json\n",
      " create mode 100644 data/sample.csv\n",
      " create mode 100644 images/topic_0.png\n",
      " create mode 100644 main.ipynb\n"
     ]
    },
    {
     "name": "stderr",
     "output_type": "stream",
     "text": [
      "To https://github.com/EquipoAlfaBuenaMaravillaOndaDinamita/cmiads-tmnlp-h4.git\n",
      "   2071a57..2725951  master -> master\n"
     ]
    }
   ],
   "source": [
    "%%bash\n",
    "git config user.email \"gar13177@uvg.edu.gt\"\n",
    "git config user.name \"Kevin Garcia\"\n",
    "git add .\n",
    "git commit -m \"code reviewed\"\n",
    "git push"
   ]
  },
  {
   "cell_type": "code",
   "execution_count": 3,
   "id": "d37c7533",
   "metadata": {},
   "outputs": [
    {
     "name": "stdout",
     "output_type": "stream",
     "text": [
      "[master c7d00e5] ordenar codigo, funcion de metricas, modelo de prueba, draft de iterar varios modelos\n",
      " 1 file changed, 72 insertions(+), 87 deletions(-)\n",
      " rewrite github.ipynb (80%)\n"
     ]
    },
    {
     "name": "stderr",
     "output_type": "stream",
     "text": [
      "To https://github.com/EquipoAlfaBuenaMaravillaOndaDinamita/cmiads-tmnlp-h4.git\n",
      "   cb1ae7d..c7d00e5  master -> master\n"
     ]
    }
   ],
   "source": [
    "%%bash\n",
    "git config user.email \"martinlguzmanc@gmail.com\"\n",
    "git config user.name \"Martin Guzman\"\n",
    "git add .\n",
    "git commit -m \"ordenar codigo, funcion de metricas, modelo de prueba, draft de iterar varios modelos\"\n",
    "git push"
   ]
  }
 ],
 "metadata": {
  "kernelspec": {
   "display_name": "Python 3 (ipykernel)",
   "language": "python",
   "name": "python3"
  },
  "language_info": {
   "codemirror_mode": {
    "name": "ipython",
    "version": 3
   },
   "file_extension": ".py",
   "mimetype": "text/x-python",
   "name": "python",
   "nbconvert_exporter": "python",
   "pygments_lexer": "ipython3",
   "version": "3.9.7"
  }
 },
 "nbformat": 4,
 "nbformat_minor": 5
}
