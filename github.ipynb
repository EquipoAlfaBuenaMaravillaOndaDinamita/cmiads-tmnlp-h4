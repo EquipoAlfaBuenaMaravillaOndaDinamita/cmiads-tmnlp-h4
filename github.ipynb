{
 "cells": [
  {
   "cell_type": "code",
   "execution_count": 7,
   "id": "14380358",
   "metadata": {},
   "outputs": [
    {
     "name": "stdout",
     "output_type": "stream",
     "text": [
      "[master be6ea97] topics updated and coherence model c_v for testing set again\n",
      " 7 files changed, 2178 insertions(+), 1932 deletions(-)\n"
     ]
    },
    {
     "name": "stderr",
     "output_type": "stream",
     "text": [
      "To https://github.com/EquipoAlfaBuenaMaravillaOndaDinamita/cmiads-tmnlp-h4.git\n",
      "   62ee621..be6ea97  master -> master\n"
     ]
    }
   ],
   "source": [
    "%%bash\n",
    "git config user.email \"gar13177@uvg.edu.gt\"\n",
    "git config user.name \"Kevin Garcia\"\n",
    "git add .\n",
    "git commit -m \"readme updated\"\n",
    "git push"
   ]
  },
  {
   "cell_type": "code",
   "execution_count": 13,
   "id": "d37c7533",
   "metadata": {},
   "outputs": [
    {
     "name": "stdout",
     "output_type": "stream",
     "text": [
      "[master 7cdd3ff] corrida con todos los modelos y sanity check\n",
      " 5 files changed, 5298 insertions(+), 2615 deletions(-)\n",
      " create mode 100644 images/best_model.png\n",
      " delete mode 100644 images/best_model2.png\n",
      " rewrite main.ipynb (66%)\n"
     ]
    },
    {
     "name": "stderr",
     "output_type": "stream",
     "text": [
      "To https://github.com/EquipoAlfaBuenaMaravillaOndaDinamita/cmiads-tmnlp-h4.git\n",
      "   6fb7986..7cdd3ff  master -> master\n"
     ]
    }
   ],
   "source": [
    "%%bash\n",
    "git config user.email \"martinlguzmanc@gmail.com\"\n",
    "git config user.name \"Martin Guzman\"\n",
    "git add .\n",
    "git commit -m \"corrida con todos los modelos y sanity check\"\n",
    "git push"
   ]
  },
  {
   "cell_type": "code",
   "execution_count": null,
   "id": "9cf05550",
   "metadata": {},
   "outputs": [],
   "source": []
  }
 ],
 "metadata": {
  "kernelspec": {
   "display_name": "Python 3 (ipykernel)",
   "language": "python",
   "name": "python3"
  },
  "language_info": {
   "codemirror_mode": {
    "name": "ipython",
    "version": 3
   },
   "file_extension": ".py",
   "mimetype": "text/x-python",
   "name": "python",
   "nbconvert_exporter": "python",
   "pygments_lexer": "ipython3",
   "version": "3.9.7"
  }
 },
 "nbformat": 4,
 "nbformat_minor": 5
}
